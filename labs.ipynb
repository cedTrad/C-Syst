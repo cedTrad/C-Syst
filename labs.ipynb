{
 "cells": [
  {
   "cell_type": "markdown",
   "metadata": {},
   "source": [
    "# Backtest"
   ]
  },
  {
   "cell_type": "code",
   "execution_count": null,
   "metadata": {},
   "outputs": [],
   "source": [
    "from system.agent import Agent\n",
    "from system.env import Env\n",
    "\n",
    "import warnings\n",
    "warnings.filterwarnings('ignore')\n",
    "\n",
    "%load_ext autoreload\n",
    "%autoreload 2\n",
    "\n",
    "\n",
    "config = {\"capital\" : 100, \"interval\" : \"1d\",\n",
    "          \"symbols\" : [\"BTC\", \"ETH\", \"SOL\", \"DASH\", \"MATIC\",\n",
    "                       \"TWT\", \"GALA\", \"EGLD\", \"XMR\"],\n",
    "          \"start\" : \"2023\", \"end\" : \"2023\"\n",
    "          }\n",
    "\n",
    "env = Env(**config)\n",
    "\n",
    "params_1 = {\"symbol\" : \"BTC\", \"allocation\" : 100, \"env\" : env, \"policy_name\" : \"MOMENTUM\"}"
   ]
  },
  {
   "cell_type": "code",
   "execution_count": null,
   "metadata": {},
   "outputs": [],
   "source": [
    "agent_1 = Agent(**params_1)\n",
    "agent_1.update_policy_params(params = 3)\n",
    "agent_1.run_episode()"
   ]
  },
  {
   "cell_type": "code",
   "execution_count": null,
   "metadata": {},
   "outputs": [],
   "source": [
    "agent_1.get_report()"
   ]
  },
  {
   "cell_type": "code",
   "execution_count": null,
   "metadata": {},
   "outputs": [],
   "source": [
    "env = Env(**config)\n",
    "params_2 = {\"symbol\" : \"BTC\", \"allocation\" : 100, \"env\" : env, \"policy_name\":\"TRIPLEMA\"}\n",
    "\n",
    "agent_2 = Agent(**params_2)\n",
    "agent_2.update_policy_params(params = (7, 14, 21))\n",
    "agent_2.run_episode()"
   ]
  },
  {
   "cell_type": "code",
   "execution_count": null,
   "metadata": {},
   "outputs": [],
   "source": [
    "agent_2.get_report()"
   ]
  },
  {
   "cell_type": "code",
   "execution_count": null,
   "metadata": {},
   "outputs": [],
   "source": [
    "env.journal.portfolio_data"
   ]
  },
  {
   "cell_type": "markdown",
   "metadata": {},
   "source": [
    "# Interaction multi agent"
   ]
  },
  {
   "cell_type": "code",
   "execution_count": 1,
   "metadata": {},
   "outputs": [],
   "source": [
    "from magent import MAgentThread\n",
    "from system.env import Env\n",
    "\n",
    "\n",
    "import warnings\n",
    "warnings.filterwarnings('ignore')\n",
    "\n",
    "%load_ext autoreload\n",
    "%autoreload 2\n",
    "\n",
    "\n",
    "config = {\"capital\" : 100, \"interval\" : \"1d\",\n",
    "          \"symbols\" : [\"BTC\", \"ETH\", \"SOL\", \"DASH\", \"MATIC\",\n",
    "                       \"TWT\", \"GALA\", \"EGLD\", \"XMR\"],\n",
    "          \"start\" : \"2023\", \"end\" : \"2023\"\n",
    "          }\n",
    "\n",
    "env = Env(**config)"
   ]
  },
  {
   "cell_type": "code",
   "execution_count": null,
   "metadata": {},
   "outputs": [
    {
     "ename": "",
     "evalue": "",
     "output_type": "error",
     "traceback": [
      "\u001b[1;31mFailed to start the Kernel. \n",
      "\u001b[1;31mUnable to start Kernel 'WcedSyst (Python 3.11.4)' due to a timeout waiting for the ports to get used. \n",
      "\u001b[1;31mView Jupyter <a href='command:jupyter.viewOutput'>log</a> for further details."
     ]
    }
   ],
   "source": [
    "from threading import Thread, Lock, Condition, Event, Manager\n",
    "\n",
    "condition = Condition()\n",
    "\n",
    "agent_msg = {}\n",
    "master_msg = {}\n",
    "\n",
    "params_1 = {\"symbol\" : \"BTC\", \"allocation\" : 100, \"env\" : env, \"policy_name\" : \"MOMENTUM\", \"condition\" : condition}\n",
    "params_2 = {\"symbol\" : \"BTC\", \"allocation\" : 100, \"env\" : env, \"policy_name\":\"TRIPLEMA\", \"condition\" : condition}\n",
    "\n",
    "\n",
    "agent_1 = MAgentThread(**params_1)\n",
    "agent_1.update_policy_params(params = 3)\n",
    "\n",
    "agent_2 = MAgentThread(**params_2)\n",
    "agent_2.update_policy_params(params = (7, 14, 21))"
   ]
  },
  {
   "cell_type": "code",
   "execution_count": 4,
   "metadata": {},
   "outputs": [
    {
     "data": {
      "text/plain": [
       "True"
      ]
     },
     "execution_count": 4,
     "metadata": {},
     "output_type": "execute_result"
    }
   ],
   "source": [
    "p = {\"d\" : 0}\n",
    "p.get(\"p\") is None"
   ]
  },
  {
   "cell_type": "code",
   "execution_count": 3,
   "metadata": {},
   "outputs": [
    {
     "name": "stderr",
     "output_type": "stream",
     "text": [
      "Exception in thread Thread-5:\n",
      "Traceback (most recent call last):\n",
      "  File \"c:\\Users\\cc\\miniconda3\\envs\\WcedSyst\\Lib\\threading.py\", line 1038, in _bootstrap_inner\n",
      "Exception in thread Thread-6:\n",
      "Traceback (most recent call last):\n",
      "  File \"c:\\Users\\cc\\miniconda3\\envs\\WcedSyst\\Lib\\threading.py\", line 1038, in _bootstrap_inner\n",
      "    self.run()\n",
      "  File \"c:\\Users\\cc\\Desktop\\CedAlgo\\C-Syst\\magent.py\", line 17, in run\n",
      "    self.communication_lock.notify()\n",
      "  File \"c:\\Users\\cc\\miniconda3\\envs\\WcedSyst\\Lib\\threading.py\", line 370, in notify\n",
      "    raise RuntimeError(\"cannot notify on un-acquired lock\")\n",
      "RuntimeError: cannot notify on un-acquired lock\n",
      "    self.run()\n",
      "  File \"c:\\Users\\cc\\Desktop\\CedAlgo\\C-Syst\\magent.py\", line 17, in run\n",
      "    self.communication_lock.notify()\n",
      "  File \"c:\\Users\\cc\\miniconda3\\envs\\WcedSyst\\Lib\\threading.py\", line 370, in notify\n",
      "    raise RuntimeError(\"cannot notify on un-acquired lock\")\n",
      "RuntimeError: cannot notify on un-acquired lock\n"
     ]
    }
   ],
   "source": [
    "agent_1.start()\n",
    "agent_2.start()\n",
    "\n",
    "agent_1.join()\n",
    "agent_2.join()"
   ]
  }
 ],
 "metadata": {
  "kernelspec": {
   "display_name": "Python 3",
   "language": "python",
   "name": "python3"
  },
  "language_info": {
   "codemirror_mode": {
    "name": "ipython",
    "version": 3
   },
   "file_extension": ".py",
   "mimetype": "text/x-python",
   "name": "python",
   "nbconvert_exporter": "python",
   "pygments_lexer": "ipython3",
   "version": "3.11.4"
  },
  "orig_nbformat": 4
 },
 "nbformat": 4,
 "nbformat_minor": 2
}
