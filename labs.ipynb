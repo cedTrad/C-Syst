{
 "cells": [
  {
   "cell_type": "markdown",
   "metadata": {},
   "source": [
    "# Backtest"
   ]
  },
  {
   "cell_type": "code",
   "execution_count": null,
   "metadata": {},
   "outputs": [],
   "source": [
    "from system.agent import Agent\n",
    "from system.env import Env\n",
    "\n",
    "import warnings\n",
    "warnings.filterwarnings('ignore')\n",
    "\n",
    "%load_ext autoreload\n",
    "%autoreload 2\n",
    "\n",
    "\n",
    "config = {\"capital\" : 100, \"interval\" : \"1d\",\n",
    "          \"symbols\" : [\"BTC\", \"ETH\", \"SOL\", \"DASH\", \"MATIC\",\n",
    "                       \"TWT\", \"GALA\", \"EGLD\", \"XMR\"],\n",
    "          \"start\" : \"2019\", \"end\" : \"2023\"\n",
    "          }\n",
    "\n",
    "env = Env(**config)\n",
    "\n",
    "agentIds = [1, 2, 3, 4]\n",
    "env.config_agents(agentIds)\n",
    "\n",
    "params_1 = {\"agentId\" : 1, \"symbol\" : \"BTC\", \"allocation\" : 100, \"env\" : env, \"policy_name\" : \"MOMENTUM\"}\n",
    "params_2 = {\"agentId\" : 2, \"symbol\" : \"BTC\", \"allocation\" : 100, \"env\" : env, \"policy_name\":\"TRIPLEMA\"}\n",
    "params_3 = {\"agentId\" : 3, \"symbol\" : \"ETH\", \"allocation\" : 100, \"env\" : env, \"policy_name\":\"MOMENTUM\"}\n",
    "params_4 = {\"agentId\" : 4, \"symbol\" : \"ETH\", \"allocation\" : 100, \"env\" : env, \"policy_name\":\"TRIPLEMA\"}"
   ]
  },
  {
   "cell_type": "code",
   "execution_count": null,
   "metadata": {},
   "outputs": [],
   "source": [
    "agent_1 = Agent(**params_1)\n",
    "agent_1.update_policy_params(params = 3)\n",
    "agent_1.run_episode()\n",
    "\n",
    "agent_2 = Agent(**params_2)\n",
    "agent_2.update_policy_params(params = (7, 14, 21))\n",
    "agent_2.run_episode()\n",
    "\n",
    "agent_3 = Agent(**params_3)\n",
    "agent_3.update_policy_params(params = 5)\n",
    "agent_3.run_episode()\n",
    "\n",
    "agent_4 = Agent(**params_4)\n",
    "agent_4.update_policy_params(params = (7, 14, 21))\n",
    "agent_4.run_episode()"
   ]
  },
  {
   "cell_type": "code",
   "execution_count": null,
   "metadata": {},
   "outputs": [],
   "source": [
    "#env.update_indicator()"
   ]
  },
  {
   "cell_type": "code",
   "execution_count": null,
   "metadata": {},
   "outputs": [],
   "source": [
    "env.get_viz(agentId=1, symbol = \"BTC\")"
   ]
  },
  {
   "cell_type": "markdown",
   "metadata": {},
   "source": [
    "## Global Report"
   ]
  },
  {
   "cell_type": "code",
   "execution_count": null,
   "metadata": {},
   "outputs": [],
   "source": [
    "env.globalReport()"
   ]
  },
  {
   "cell_type": "code",
   "execution_count": null,
   "metadata": {},
   "outputs": [],
   "source": [
    "0"
   ]
  },
  {
   "cell_type": "markdown",
   "metadata": {},
   "source": [
    "#  MultiAgent System"
   ]
  },
  {
   "cell_type": "code",
   "execution_count": null,
   "metadata": {},
   "outputs": [],
   "source": [
    "from magent import MAgentThread\n",
    "from master import  MasterAgentThread\n",
    "from system.env import Env\n",
    "\n",
    "from threading import Thread, Condition, Event, Barrier, Semaphore\n",
    "\n",
    "import warnings\n",
    "warnings.filterwarnings('ignore')\n",
    "\n",
    "%load_ext autoreload\n",
    "%autoreload 2\n",
    "\n",
    "\n",
    "config = {\"capital\" : 100, \"interval\" : \"1d\",\n",
    "          \"symbols\" : [\"BTC\", \"ETH\", \"SOL\", \"DASH\", \"MATIC\",\n",
    "                       \"TWT\", \"GALA\", \"EGLD\", \"XMR\"],\n",
    "          \"start\" : \"2023\", \"end\" : \"2023\"\n",
    "          }\n",
    "env = Env(**config)\n",
    "\n",
    "\n",
    "def custom_action():\n",
    "    print(\" *** Barrier passee *** \")\n",
    "\n",
    "\n",
    "agentId_1 = 1\n",
    "agentId_2 = 2\n",
    "agentId_3 = 3\n",
    "agentId_4 = 4\n",
    "agentID = [1, 2, 3, 4]\n",
    "env.config_agents(agentID)\n",
    "\n",
    "agent_bus = {\n",
    "    \"running\" : {agentId_1 : False, agentId_2 : False, agentId_3 : False, agentId_4 : False},\n",
    "    \"msg\" : {agentId_1 : None, agentId_2 : None, agentId_3 : None, agentId_4 : None},\n",
    "    \"stop\" : False\n",
    "}\n",
    "master_bus = {\n",
    "    \"agent\" : {agentId_1 : None, agentId_2 : None, agentId_3 : None, agentId_4 : None},\n",
    "    \"activeAgent\" : None,\n",
    "    \"stop\" : False\n",
    "}\n",
    "\n",
    "activeAgent = agentId_1\n",
    "\n",
    "N = len(agentID)\n",
    "condition = Condition()\n",
    "barrier = Barrier(N, action=custom_action)\n",
    "\n",
    "boss_params = {\"condition\" : condition, \"activeAgent\" : activeAgent ,  \"agent_bus\" : agent_bus, \"master_bus\" : master_bus}\n",
    "\n",
    "params_1 = {\"agentId\" : agentId_1, \"symbol\" : \"BTC\", \"allocation\" : 100, \"env\" : env, \"policy_name\" : \"MOMENTUM\",\n",
    "            \"condition\" : condition, \"barrier\" : barrier, \"agent_bus\" : agent_bus, \"master_bus\" : master_bus}\n",
    "\n",
    "params_2 = {\"agentId\" : agentId_2, \"symbol\" : \"ETH\", \"allocation\" : 100, \"env\" : env, \"policy_name\":\"TRIPLEMA\",\n",
    "            \"condition\" : condition, \"barrier\" : barrier, \"agent_bus\" : agent_bus, \"master_bus\" : master_bus}\n",
    "\n",
    "params_3 = {\"agentId\" : agentId_3, \"symbol\" : \"SOL\", \"allocation\" : 100, \"env\" : env, \"policy_name\" : \"MOMENTUM\",\n",
    "            \"condition\" : condition, \"barrier\" : barrier, \"agent_bus\" : agent_bus, \"master_bus\" : master_bus}\n",
    "\n",
    "params_4 = {\"agentId\" : agentId_4, \"symbol\" : \"EGLD\", \"allocation\" : 100, \"env\" : env, \"policy_name\":\"TRIPLEMA\",\n",
    "            \"condition\" : condition, \"barrier\" : barrier, \"agent_bus\" : agent_bus, \"master_bus\" : master_bus}\n",
    "\n",
    "\n",
    "Boss = MasterAgentThread(**boss_params)\n",
    "Boss.addAgent(agentId_1)\n",
    "Boss.addAgent(agentId_2)\n",
    "Boss.addAgent(agentId_3)\n",
    "Boss.addAgent(agentId_4)\n",
    "\n",
    "agent_1 = MAgentThread(**params_1)\n",
    "agent_1.update_policy_params(params = 3)\n",
    "\n",
    "agent_2 = MAgentThread(**params_2)\n",
    "agent_2.update_policy_params(params = (7, 14, 21))\n",
    "\n",
    "agent_3 = MAgentThread(**params_3)\n",
    "agent_3.update_policy_params(params = 6)\n",
    "\n",
    "agent_4 = MAgentThread(**params_4)\n",
    "agent_4.update_policy_params(params = (14, 21, 36))\n"
   ]
  },
  {
   "cell_type": "code",
   "execution_count": null,
   "metadata": {},
   "outputs": [],
   "source": [
    "Boss.start()\n",
    "agent_1.start()\n",
    "agent_2.start()\n",
    "agent_3.start()\n",
    "agent_4.start()\n",
    "\n",
    "agent_1.join()\n",
    "agent_2.join()\n",
    "agent_3.join()\n",
    "agent_4.join()\n",
    "Boss.join()"
   ]
  },
  {
   "cell_type": "code",
   "execution_count": null,
   "metadata": {},
   "outputs": [],
   "source": []
  },
  {
   "cell_type": "code",
   "execution_count": null,
   "metadata": {},
   "outputs": [],
   "source": [
    "env.get_viz(agentId=4, symbol = \"EGLD\")"
   ]
  },
  {
   "cell_type": "code",
   "execution_count": null,
   "metadata": {},
   "outputs": [],
   "source": [
    "env.globalReport()"
   ]
  },
  {
   "cell_type": "code",
   "execution_count": null,
   "metadata": {},
   "outputs": [],
   "source": [
    "d = {x : None for x in range(4)}\n",
    "d"
   ]
  },
  {
   "cell_type": "code",
   "execution_count": null,
   "metadata": {},
   "outputs": [],
   "source": [
    "from plotly.figure_factory import create_distplot\n",
    "import numpy as np\n",
    "import pandas as pd\n",
    "\n",
    "df = pd.DataFrame({'2012': np.random.randn(200), \n",
    "                   '2013': np.random.randn(200)+1}\n",
    "                  )\n",
    "fig = create_distplot([df[c] for c in df.columns], df.columns)\n",
    "fig.show()"
   ]
  },
  {
   "cell_type": "code",
   "execution_count": null,
   "metadata": {},
   "outputs": [],
   "source": [
    "import plotly.figure_factory as ff\n",
    "import numpy as np\n",
    "np.random.seed(1)\n",
    "\n",
    "x = np.random.randn(1000)\n",
    "hist_data = [x]\n",
    "group_labels = ['distplot'] # name of the dataset\n",
    "\n",
    "fig = ff.create_distplot(hist_data, group_labels)\n",
    "fig.show()"
   ]
  },
  {
   "cell_type": "code",
   "execution_count": null,
   "metadata": {},
   "outputs": [],
   "source": [
    "import plotly.figure_factory as ff\n",
    "import numpy as np\n",
    "\n",
    "# Add histogram data\n",
    "x1 = np.random.randn(200) - 2\n",
    "x2 = np.random.randn(200)\n",
    "x3 = np.random.randn(200) + 2\n",
    "x4 = np.random.randn(200) + 4\n",
    "\n",
    "# Group data together\n",
    "hist_data = [x1, x2, x3, x4]\n",
    "\n",
    "group_labels = ['Group 1', 'Group 2', 'Group 3', 'Group 4']\n",
    "\n",
    "# Create distplot with custom bin_size\n",
    "fig = ff.create_distplot(hist_data, group_labels, bin_size=.2)\n",
    "fig.show()"
   ]
  },
  {
   "cell_type": "code",
   "execution_count": null,
   "metadata": {},
   "outputs": [],
   "source": [
    "import plotly.figure_factory as ff\n",
    "import numpy as np\n",
    "\n",
    "x1 = np.random.randn(200)\n",
    "x2 = np.random.randn(200) + 2\n",
    "\n",
    "group_labels = ['Group 1', 'Group 2']\n",
    "\n",
    "colors = ['slategray', 'magenta']\n",
    "\n",
    "# Create distplot with curve_type set to 'normal'\n",
    "fig = ff.create_distplot([x1, x2], group_labels, bin_size=.5,\n",
    "                         curve_type='normal', # override default 'kde'\n",
    "                         colors=colors)\n",
    "\n",
    "# Add title\n",
    "fig.update_layout(title_text='Distplot with Normal Distribution')\n",
    "fig.show()"
   ]
  },
  {
   "cell_type": "code",
   "execution_count": null,
   "metadata": {},
   "outputs": [],
   "source": [
    "import plotly.figure_factory as ff\n",
    "import numpy as np\n",
    "\n",
    "x1 = np.random.randn(200) - 1\n",
    "x2 = np.random.randn(200)\n",
    "x3 = np.random.randn(200) + 1\n",
    "\n",
    "hist_data = [x1, x2, x3]\n",
    "\n",
    "group_labels = ['Group 1', 'Group 2', 'Group 3']\n",
    "colors = ['#333F44', '#37AA9C', '#94F3E4']\n",
    "\n",
    "# Create distplot with curve_type set to 'normal'\n",
    "fig = ff.create_distplot(hist_data, group_labels, show_hist=False, colors=colors)\n",
    "\n",
    "# Add title\n",
    "fig.update_layout(title_text='Curve and Rug Plot')\n",
    "fig.show()"
   ]
  },
  {
   "cell_type": "code",
   "execution_count": null,
   "metadata": {},
   "outputs": [],
   "source": [
    "import plotly.graph_objects as go\n",
    "\n",
    "categories = ['processing cost','mechanical properties','chemical stability',\n",
    "              'thermal stability', 'device integration']\n",
    "\n",
    "fig = go.Figure()\n",
    "\n",
    "fig.add_trace(go.Scatterpolar(\n",
    "      r=[1, 5, 2, 2, 3],\n",
    "      theta=categories,\n",
    "      fill='toself',\n",
    "      name='Product A'\n",
    "))\n",
    "fig.add_trace(go.Scatterpolar(\n",
    "      r=[4, 3, 2.5, 1, 2],\n",
    "      theta=categories,\n",
    "      fill='toself',\n",
    "      name='Product B'\n",
    "))\n",
    "\n",
    "fig.update_layout(\n",
    "  polar=dict(\n",
    "    radialaxis=dict(\n",
    "      visible=True,\n",
    "      range=[0, 5]\n",
    "    )),\n",
    "  showlegend=False\n",
    ")\n",
    "\n",
    "fig.show()"
   ]
  },
  {
   "cell_type": "code",
   "execution_count": null,
   "metadata": {},
   "outputs": [],
   "source": []
  },
  {
   "cell_type": "code",
   "execution_count": null,
   "metadata": {},
   "outputs": [],
   "source": [
    "class MyGenerator:\n",
    "    def __init__(self, n):\n",
    "        self.n = n\n",
    "        self.current = 0\n",
    "\n",
    "    def __iter__(self):\n",
    "        return self\n",
    "\n",
    "    def __next__(self):\n",
    "        if self.current < self.n:\n",
    "            result = self.current\n",
    "            self.current += 1\n",
    "            return result\n",
    "        else:\n",
    "            raise StopIteration\n",
    "\n",
    "# Créez une instance de la classe MyGenerator\n",
    "dix_nombres = MyGenerator(10)\n",
    "\n",
    "# Utilisez une boucle for pour obtenir les valeurs\n",
    "for nombre in dix_nombres:\n",
    "    print(nombre)\n"
   ]
  },
  {
   "cell_type": "code",
   "execution_count": null,
   "metadata": {},
   "outputs": [],
   "source": [
    "my_list = [1, 2, 3, 4, 5]\n",
    "iterable = iter(my_list)\n",
    "\n",
    "for x in iterable:\n",
    "    print(x)\n"
   ]
  },
  {
   "cell_type": "code",
   "execution_count": null,
   "metadata": {},
   "outputs": [],
   "source": [
    "import multiprocessing\n",
    "\n",
    "multiprocessing.cpu_count()"
   ]
  },
  {
   "cell_type": "code",
   "execution_count": null,
   "metadata": {},
   "outputs": [],
   "source": [
    "import os \n",
    "\n",
    "os.cpu_count()"
   ]
  }
 ],
 "metadata": {
  "kernelspec": {
   "display_name": "Python 3",
   "language": "python",
   "name": "python3"
  },
  "language_info": {
   "codemirror_mode": {
    "name": "ipython",
    "version": 3
   },
   "file_extension": ".py",
   "mimetype": "text/x-python",
   "name": "python",
   "nbconvert_exporter": "python",
   "pygments_lexer": "ipython3",
   "version": "3.11.4"
  },
  "orig_nbformat": 4
 },
 "nbformat": 4,
 "nbformat_minor": 2
}
