{
 "cells": [
  {
   "cell_type": "markdown",
   "metadata": {},
   "source": [
    "# Backtest"
   ]
  },
  {
   "cell_type": "code",
   "execution_count": null,
   "metadata": {},
   "outputs": [],
   "source": [
    "from system.agent import Agent\n",
    "from system.env import Env, GEnv\n",
    "\n",
    "from IPython.display import clear_output\n",
    "\n",
    "import warnings\n",
    "warnings.filterwarnings('ignore')\n",
    "\n",
    "%load_ext autoreload\n",
    "%autoreload 2\n",
    "\n",
    "\n",
    "START = \"2022-01-01\"\n",
    "END = \"2023-10-01\"\n",
    "TICKERS = [\"BTC\", \"ETH\", \"SOL\", \"DASH\", \"MATIC\", \"TWT\", \"GALA\", \"EGLD\", \"XMR\"]\n",
    "\n",
    "INTERVAL = \"1d\"\n",
    "CAPITAL = 100\n",
    "\n",
    "config = {\n",
    "    \"symbols\" : TICKERS, \"interval\" : INTERVAL, \"start\" : START, \"end\" : END\n",
    "    }\n",
    "env = GEnv(**config)\n",
    "\n",
    "\n",
    "sub_env_1 = Env(symbol=\"BTC\", interval=INTERVAL, start=START, end=END)\n",
    "sub_env_2 = Env(symbol=\"ETH\", interval=INTERVAL, start=START, end=END)\n",
    "sub_env_3 = Env(symbol=\"SOL\", interval=INTERVAL, start=START, end=END)\n",
    "sub_env_4 = Env(symbol=\"EGLD\", interval=INTERVAL, start=START, end=END)\n",
    "\n",
    "\n",
    "# Agent details\n",
    "CAPITAL = 100\n",
    "AGENT_PARAMS = [\n",
    "    [(1, \"BTC\"), CAPITAL, sub_env_1],\n",
    "    [(2, \"ETH\"), CAPITAL,sub_env_2],\n",
    "    [(3, \"SOL\"), CAPITAL,sub_env_3],\n",
    "    [(4, \"EGLD\"), CAPITAL,sub_env_4]\n",
    "]\n",
    "\n",
    "\n",
    "STRATEGIES = [\n",
    "    (\"MOMENTUM\", 3, {\"floor\" : 4}),\n",
    "    (\"TRIPLEMA\", (3, 7, 14), {\"floor\" : 4}),\n",
    "    (\"MOMENTUM\", 8, {\"floor\" : 4}),\n",
    "    (\"TRIPLEMA\", (14, 21, 35), {\"floor\" : 4})\n",
    "]\n",
    "\n",
    "AGENT = []\n",
    "for agent_x, strategie in zip(AGENT_PARAMS, STRATEGIES):\n",
    "    clear_output()\n",
    "    print(agent_x)\n",
    "    agent = Agent(*agent_x)\n",
    "    agent.update_policy(*strategie)\n",
    "    agent.run_episode()\n",
    "    AGENT.append(agent)\n",
    "    \n",
    "    "
   ]
  },
  {
   "cell_type": "code",
   "execution_count": null,
   "metadata": {},
   "outputs": [],
   "source": [
    "AGENT[0].view_report()"
   ]
  },
  {
   "cell_type": "code",
   "execution_count": null,
   "metadata": {},
   "outputs": [],
   "source": [
    "#AGENT[1].env.post_event.tradeData[AGENT[1].env.post_event.tradeData[\"session\"]==1]\n",
    "AGENT[1].env.post_event.tradeData.iloc[:53]"
   ]
  },
  {
   "cell_type": "code",
   "execution_count": null,
   "metadata": {},
   "outputs": [],
   "source": [
    "AGENT[1].view_report()"
   ]
  },
  {
   "cell_type": "code",
   "execution_count": null,
   "metadata": {},
   "outputs": [],
   "source": [
    "AGENT[3].view_report()"
   ]
  },
  {
   "cell_type": "code",
   "execution_count": null,
   "metadata": {},
   "outputs": [],
   "source": [
    "#AGENT[3].post_event.tradeData[AGENT[3].post_event.tradeData[\"session\"] == 1].iloc[2:12]"
   ]
  },
  {
   "cell_type": "code",
   "execution_count": null,
   "metadata": {},
   "outputs": [],
   "source": [
    "env.globalReport()"
   ]
  },
  {
   "cell_type": "markdown",
   "metadata": {},
   "source": [
    "# Agent : Learning"
   ]
  },
  {
   "cell_type": "code",
   "execution_count": 11,
   "metadata": {},
   "outputs": [
    {
     "name": "stdout",
     "output_type": "stream",
     "text": [
      "The autoreload extension is already loaded. To reload it, use:\n",
      "  %reload_ext autoreload\n",
      "[(1, 'QNT'), 1000, <system.env.Env object at 0x00000138162DE650>, 100]\n",
      "except :  \n",
      "N : 0\n"
     ]
    }
   ],
   "source": [
    "from system.agent import Agent\n",
    "from system.env import Env, GEnv\n",
    "\n",
    "from IPython.display import clear_output\n",
    "\n",
    "import warnings\n",
    "warnings.filterwarnings('ignore')\n",
    "\n",
    "%load_ext autoreload\n",
    "%autoreload 2\n",
    "\n",
    "\n",
    "START = \"2024\"\n",
    "END = \"2023\"\n",
    "TICKERS = [\"BTC\", \"ETH\", \"SOL\", \"QNT\", \"DASH\", \"MATIC\", \"TWT\", \"GALA\", \"EGLD\", \"XMR\"]\n",
    "\n",
    "SYMBOL = \"QNT\"\n",
    "INTERVAL = \"1d\"\n",
    "CAPITAL = 1000\n",
    "\n",
    "\n",
    "config = {\n",
    "    \"symbols\" : TICKERS, \"interval\" : INTERVAL, \"start\" : START, \"end\" : END\n",
    "    }\n",
    "env = GEnv(**config)\n",
    "\n",
    "sub_env = Env(symbol=SYMBOL, interval=INTERVAL, start=START, end=END)\n",
    "\n",
    "# Agent details\n",
    "CAPITAL = 1000\n",
    "LEVERAGE = 5\n",
    "\n",
    "n_SESSION = 100\n",
    "\n",
    "AGENT_PARAMS = [\n",
    "    [(1, SYMBOL), CAPITAL, sub_env, n_SESSION]\n",
    "]\n",
    "\n",
    "\n",
    "\n",
    "\n",
    "STRATEGIES = [\n",
    "    (\"MOMENTUM\", 3, {\"floor\" : 4}),\n",
    "    (\"TRIPLEMA\", (3, 7, 14), {\"floor\" : 4}),\n",
    "    (\"MOMENTUM\", 8, {\"floor\" : 4}),\n",
    "    (\"TRIPLEMA\", (14, 21, 35), {\"floor\" : 4})\n",
    "]\n",
    "\n",
    "STRATEGIES = [\n",
    "    (\"TRIPLEMA\", (3, 7, 14), {\"floor\" : 4})\n",
    "]\n",
    "\n",
    "STRATEGIES = [\n",
    "    (\"MOMENTUM\", 3, {\"floor\" : 4})\n",
    "]\n",
    "\n",
    "AGENT = []\n",
    "for agent_x, strategie in zip(AGENT_PARAMS, STRATEGIES):\n",
    "    print(agent_x)\n",
    "    agent = Agent(*agent_x)\n",
    "    agent.update_policy(*strategie)\n",
    "    agent.run_episode()\n",
    "    AGENT.append(agent)\n",
    "    \n",
    "    "
   ]
  },
  {
   "cell_type": "code",
   "execution_count": null,
   "metadata": {},
   "outputs": [],
   "source": [
    "AGENT[0].view_report()"
   ]
  },
  {
   "cell_type": "code",
   "execution_count": 2,
   "metadata": {},
   "outputs": [
    {
     "data": {
      "text/html": [
       "<div>\n",
       "<style scoped>\n",
       "    .dataframe tbody tr th:only-of-type {\n",
       "        vertical-align: middle;\n",
       "    }\n",
       "\n",
       "    .dataframe tbody tr th {\n",
       "        vertical-align: top;\n",
       "    }\n",
       "\n",
       "    .dataframe thead th {\n",
       "        text-align: right;\n",
       "    }\n",
       "</style>\n",
       "<table border=\"1\" class=\"dataframe\">\n",
       "  <thead>\n",
       "    <tr style=\"text-align: right;\">\n",
       "      <th></th>\n",
       "    </tr>\n",
       "  </thead>\n",
       "  <tbody>\n",
       "  </tbody>\n",
       "</table>\n",
       "</div>"
      ],
      "text/plain": [
       "Empty DataFrame\n",
       "Columns: []\n",
       "Index: []"
      ]
     },
     "execution_count": 2,
     "metadata": {},
     "output_type": "execute_result"
    }
   ],
   "source": [
    "session = AGENT[0].post_event.session\n",
    "session"
   ]
  },
  {
   "cell_type": "code",
   "execution_count": null,
   "metadata": {},
   "outputs": [],
   "source": []
  },
  {
   "cell_type": "code",
   "execution_count": 3,
   "metadata": {},
   "outputs": [
    {
     "ename": "KeyError",
     "evalue": "'nbTrades'",
     "output_type": "error",
     "traceback": [
      "\u001b[1;31m---------------------------------------------------------------------------\u001b[0m",
      "\u001b[1;31mKeyError\u001b[0m                                  Traceback (most recent call last)",
      "Cell \u001b[1;32mIn[3], line 1\u001b[0m\n\u001b[1;32m----> 1\u001b[0m (\u001b[43msession\u001b[49m\u001b[43m[\u001b[49m\u001b[38;5;124;43m\"\u001b[39;49m\u001b[38;5;124;43mnbTrades\u001b[39;49m\u001b[38;5;124;43m\"\u001b[39;49m\u001b[43m]\u001b[49m\u001b[38;5;241m.\u001b[39msum() \u001b[38;5;241m/\u001b[39m dd\u001b[38;5;241m.\u001b[39mshape[\u001b[38;5;241m0\u001b[39m]) \u001b[38;5;241m*\u001b[39m \u001b[38;5;241m100\u001b[39m\n",
      "File \u001b[1;32mc:\\Users\\Dell\\miniconda3\\envs\\WcedSyst\\Lib\\site-packages\\pandas\\core\\frame.py:3761\u001b[0m, in \u001b[0;36mDataFrame.__getitem__\u001b[1;34m(self, key)\u001b[0m\n\u001b[0;32m   3759\u001b[0m \u001b[38;5;28;01mif\u001b[39;00m \u001b[38;5;28mself\u001b[39m\u001b[38;5;241m.\u001b[39mcolumns\u001b[38;5;241m.\u001b[39mnlevels \u001b[38;5;241m>\u001b[39m \u001b[38;5;241m1\u001b[39m:\n\u001b[0;32m   3760\u001b[0m     \u001b[38;5;28;01mreturn\u001b[39;00m \u001b[38;5;28mself\u001b[39m\u001b[38;5;241m.\u001b[39m_getitem_multilevel(key)\n\u001b[1;32m-> 3761\u001b[0m indexer \u001b[38;5;241m=\u001b[39m \u001b[38;5;28;43mself\u001b[39;49m\u001b[38;5;241;43m.\u001b[39;49m\u001b[43mcolumns\u001b[49m\u001b[38;5;241;43m.\u001b[39;49m\u001b[43mget_loc\u001b[49m\u001b[43m(\u001b[49m\u001b[43mkey\u001b[49m\u001b[43m)\u001b[49m\n\u001b[0;32m   3762\u001b[0m \u001b[38;5;28;01mif\u001b[39;00m is_integer(indexer):\n\u001b[0;32m   3763\u001b[0m     indexer \u001b[38;5;241m=\u001b[39m [indexer]\n",
      "File \u001b[1;32mc:\\Users\\Dell\\miniconda3\\envs\\WcedSyst\\Lib\\site-packages\\pandas\\core\\indexes\\range.py:349\u001b[0m, in \u001b[0;36mRangeIndex.get_loc\u001b[1;34m(self, key)\u001b[0m\n\u001b[0;32m    347\u001b[0m         \u001b[38;5;28;01mraise\u001b[39;00m \u001b[38;5;167;01mKeyError\u001b[39;00m(key) \u001b[38;5;28;01mfrom\u001b[39;00m \u001b[38;5;21;01merr\u001b[39;00m\n\u001b[0;32m    348\u001b[0m \u001b[38;5;28;01mif\u001b[39;00m \u001b[38;5;28misinstance\u001b[39m(key, Hashable):\n\u001b[1;32m--> 349\u001b[0m     \u001b[38;5;28;01mraise\u001b[39;00m \u001b[38;5;167;01mKeyError\u001b[39;00m(key)\n\u001b[0;32m    350\u001b[0m \u001b[38;5;28mself\u001b[39m\u001b[38;5;241m.\u001b[39m_check_indexing_error(key)\n\u001b[0;32m    351\u001b[0m \u001b[38;5;28;01mraise\u001b[39;00m \u001b[38;5;167;01mKeyError\u001b[39;00m(key)\n",
      "\u001b[1;31mKeyError\u001b[0m: 'nbTrades'"
     ]
    }
   ],
   "source": [
    "(session[\"nbTrades\"].sum() / dd.shape[0]) * 100"
   ]
  },
  {
   "cell_type": "code",
   "execution_count": 4,
   "metadata": {},
   "outputs": [
    {
     "data": {
      "text/html": [
       "<div>\n",
       "<style scoped>\n",
       "    .dataframe tbody tr th:only-of-type {\n",
       "        vertical-align: middle;\n",
       "    }\n",
       "\n",
       "    .dataframe tbody tr th {\n",
       "        vertical-align: top;\n",
       "    }\n",
       "\n",
       "    .dataframe thead th {\n",
       "        text-align: right;\n",
       "    }\n",
       "</style>\n",
       "<table border=\"1\" class=\"dataframe\">\n",
       "  <thead>\n",
       "    <tr style=\"text-align: right;\">\n",
       "      <th></th>\n",
       "    </tr>\n",
       "  </thead>\n",
       "  <tbody>\n",
       "  </tbody>\n",
       "</table>\n",
       "</div>"
      ],
      "text/plain": [
       "Empty DataFrame\n",
       "Columns: []\n",
       "Index: []"
      ]
     },
     "execution_count": 4,
     "metadata": {},
     "output_type": "execute_result"
    }
   ],
   "source": [
    "dd = AGENT[0].env.post_event.tradeData\n",
    "dd.head(15)"
   ]
  },
  {
   "cell_type": "code",
   "execution_count": null,
   "metadata": {},
   "outputs": [],
   "source": [
    "port = AGENT[0].env.post_event.portfolioData\n",
    "port"
   ]
  },
  {
   "cell_type": "markdown",
   "metadata": {},
   "source": [
    "#### --------------------------------------"
   ]
  },
  {
   "cell_type": "markdown",
   "metadata": {},
   "source": [
    "# *Multi-Agent* v2(1)"
   ]
  },
  {
   "cell_type": "code",
   "execution_count": null,
   "metadata": {},
   "outputs": [],
   "source": [
    "from magent import MAgentThread\n",
    "from master import  MasterAgentThread\n",
    "from system.env import Env, SubEnv\n",
    "\n",
    "from threading import Thread, Condition, Event, Barrier, Semaphore\n",
    "\n",
    "import warnings\n",
    "warnings.filterwarnings('ignore')\n",
    "\n",
    "%load_ext autoreload\n",
    "%autoreload 2\n",
    "\n",
    "\n",
    "TICKERS = [\"BTC\", \"ETH\", \"SOL\", \"DASH\"]\n",
    "START = \"2022-01-01\"\n",
    "END = \"2023-10-01\"\n",
    "INTERVAL = \"1d\"\n",
    "CAPITAL = 100\n",
    "\n",
    "config = {\"capital\" : CAPITAL, \"interval\" : INTERVAL,\n",
    "          \"symbols\" : TICKERS, \"start\" : START, \"end\" : END}\n",
    "env = Env(**config)\n",
    "\n",
    "sub_env_1 = SubEnv(symbol=\"BTC\", capital=CAPITAL, interval=INTERVAL, start=START, end=END)\n",
    "sub_env_2 = SubEnv(symbol=\"ETH\", capital=CAPITAL, interval=INTERVAL, start=START, end=END)\n",
    "sub_env_3 = SubEnv(symbol=\"SOL\", capital=CAPITAL, interval=INTERVAL, start=START, end=END)\n",
    "sub_env_4 = SubEnv(symbol=\"EGLD\", capital=CAPITAL, interval=INTERVAL, start=START, end=END)\n",
    "\n",
    "# Agent details\n",
    "AGENT_PARAMS = [\n",
    "    [(1, \"BTC\"), sub_env_1],\n",
    "    [(2, \"ETH\"), sub_env_2],\n",
    "    [(3, \"SOL\"), sub_env_3],\n",
    "    [(4, \"EGLD\"), sub_env_4]\n",
    "]\n",
    "\n",
    "N = len(AGENT_PARAMS)\n",
    "\n",
    "STRATEGIES = [\n",
    "    ((1, \"BTC\"), \"MOMENTUM\", 3),\n",
    "    ((2, \"ETH\"), \"TRIPLEMA\", (3, 7, 14)),\n",
    "    ((3, \"SOL\"), \"MOMENTUM\", 8),\n",
    "    ((4, \"EGLD\"), \"TRIPLEMA\", (14, 21, 35))\n",
    "]"
   ]
  },
  {
   "cell_type": "code",
   "execution_count": null,
   "metadata": {},
   "outputs": [],
   "source": [
    "master = MasterAgentThread(env)\n",
    "master.set_barrier(n=N)\n",
    "\n",
    "for agent_param, strategie in zip(AGENT_PARAMS, STRATEGIES):\n",
    "    master.add_agent(*agent_param)\n",
    "    master.update_params(*strategie)\n",
    "\n",
    "\n",
    "master.active_agents()\n",
    "master.run()"
   ]
  },
  {
   "cell_type": "code",
   "execution_count": null,
   "metadata": {},
   "outputs": [],
   "source": [
    "master.agents"
   ]
  },
  {
   "cell_type": "code",
   "execution_count": null,
   "metadata": {},
   "outputs": [],
   "source": [
    "#master.agents[(1, \"BTC\")].env.get_viz(1, \"BTC\")\n",
    "master.agents[(AGENT_PARAMS[0][0])].env.get_viz(*AGENT_PARAMS[0][0])"
   ]
  },
  {
   "cell_type": "code",
   "execution_count": null,
   "metadata": {},
   "outputs": [],
   "source": [
    "master.agents[(AGENT_PARAMS[1][0])].env.get_viz(*AGENT_PARAMS[1][0])"
   ]
  },
  {
   "cell_type": "code",
   "execution_count": null,
   "metadata": {},
   "outputs": [],
   "source": [
    "master.agents[(AGENT_PARAMS[2][0])].env.get_viz(*AGENT_PARAMS[2][0])"
   ]
  },
  {
   "cell_type": "code",
   "execution_count": null,
   "metadata": {},
   "outputs": [],
   "source": [
    "master.agents[(AGENT_PARAMS[3][0])].env.get_viz(*AGENT_PARAMS[3][0])"
   ]
  },
  {
   "cell_type": "code",
   "execution_count": null,
   "metadata": {},
   "outputs": [],
   "source": [
    "master.agents[(4, \"EGLD\")].env.journal.portfolioData\n",
    "#master.agents[(3, \"SOL\")].env.journal.tradesData"
   ]
  },
  {
   "cell_type": "code",
   "execution_count": null,
   "metadata": {},
   "outputs": [],
   "source": [
    "master.agents"
   ]
  },
  {
   "cell_type": "code",
   "execution_count": null,
   "metadata": {},
   "outputs": [],
   "source": [
    "master.agents[(3, \"SOL\")].env.journal.portfolioData"
   ]
  },
  {
   "cell_type": "markdown",
   "metadata": {},
   "source": [
    "# *End*"
   ]
  },
  {
   "cell_type": "code",
   "execution_count": null,
   "metadata": {},
   "outputs": [],
   "source": [
    "import threading\n",
    "\n",
    "threading.enumerate()"
   ]
  },
  {
   "cell_type": "markdown",
   "metadata": {},
   "source": [
    "# *Multi-Agent v3* Multiprocessing"
   ]
  },
  {
   "cell_type": "code",
   "execution_count": null,
   "metadata": {},
   "outputs": [],
   "source": [
    "import multiprocessing\n",
    "from multiprocessing import Process, Manager, Queue, Barrier, Event, Semaphore\n",
    "\n"
   ]
  },
  {
   "cell_type": "markdown",
   "metadata": {},
   "source": [
    "# Plot"
   ]
  },
  {
   "cell_type": "code",
   "execution_count": null,
   "metadata": {},
   "outputs": [],
   "source": [
    "import plotly.graph_objects as go\n",
    "\n",
    "categories = ['processing cost','mechanical properties','chemical stability',\n",
    "              'thermal stability', 'device integration']\n",
    "\n",
    "fig = go.Figure()\n",
    "\n",
    "fig.add_trace(go.Scatterpolar(\n",
    "      r=[1, 5, 2, 2, 3],\n",
    "      theta=categories,\n",
    "      fill='toself',\n",
    "      name='Product A'\n",
    "))\n",
    "fig.add_trace(go.Scatterpolar(\n",
    "      r=[4, 3, 2.5, 1, 2],\n",
    "      theta=categories,\n",
    "      fill='toself',\n",
    "      name='Product B'\n",
    "))\n",
    "\n",
    "fig.update_layout(\n",
    "  polar=dict(\n",
    "    radialaxis=dict(\n",
    "      visible=True,\n",
    "      range=[0, 5]\n",
    "    )),\n",
    "  showlegend=False\n",
    ")\n",
    "\n",
    "fig.show()"
   ]
  },
  {
   "cell_type": "code",
   "execution_count": null,
   "metadata": {},
   "outputs": [],
   "source": [
    "class MyGenerator:\n",
    "    def __init__(self, n):\n",
    "        self.n = n\n",
    "        self.current = 0\n",
    "\n",
    "    def __iter__(self):\n",
    "        return self\n",
    "\n",
    "    def __next__(self):\n",
    "        if self.current < self.n:\n",
    "            result = self.current\n",
    "            self.current += 1\n",
    "            return result\n",
    "        else:\n",
    "            raise StopIteration\n",
    "\n",
    "# Créez une instance de la classe MyGenerator\n",
    "dix_nombres = MyGenerator(10)\n",
    "\n",
    "# Utilisez une boucle for pour obtenir les valeurs\n",
    "for nombre in dix_nombres:\n",
    "    print(nombre)\n"
   ]
  },
  {
   "cell_type": "code",
   "execution_count": null,
   "metadata": {},
   "outputs": [],
   "source": [
    "import multiprocessing\n",
    "\n",
    "multiprocessing.cpu_count()"
   ]
  },
  {
   "cell_type": "code",
   "execution_count": null,
   "metadata": {},
   "outputs": [],
   "source": [
    "import os \n",
    "\n",
    "os.cpu_count()"
   ]
  },
  {
   "cell_type": "code",
   "execution_count": null,
   "metadata": {},
   "outputs": [],
   "source": [
    "import threading\n",
    "\n",
    "class Master:\n",
    "    def __init__(self, condition, event):\n",
    "        self.condition = condition\n",
    "        self.event = event\n",
    "\n",
    "    def run(self):\n",
    "        for _ in range(10):\n",
    "            with self.condition:\n",
    "                print(\"Maître : J'attends que les agents soient prêts.\")\n",
    "                self.condition.wait()\n",
    "                print(\"Maître : Autorisation d'exécuter le travail.\")\n",
    "                self.event.set()\n",
    "                self.condition.notify_all()\n",
    "\n",
    "class Agent:\n",
    "    def __init__(self, agent_id, condition, event):\n",
    "        self.agent_id = agent_id\n",
    "        self.condition = condition\n",
    "        self.event = event\n",
    "\n",
    "    def run(self):\n",
    "        for _ in range(10):\n",
    "            with self.condition:\n",
    "                print(f\"Agent {self.agent_id} : Prêt à travailler.\")\n",
    "                self.condition.notify()\n",
    "                self.condition.wait()\n",
    "                self.event.wait()\n",
    "                self.event.clear()\n",
    "                print(f\"Agent {self.agent_id} : Travail en cours.\")\n",
    "                self.condition.notify()\n",
    "                self.condition.wait()\n",
    "                print(f\"Agent {self.agent_id} : Travail terminé.\")\n",
    "\n",
    "# Créez une Condition pour coordonner les agents et le maître\n",
    "condition = threading.Condition()\n",
    "\n",
    "# Créez un Event pour autoriser les agents à travailler\n",
    "event = threading.Event()\n",
    "\n",
    "# Créez le maître et les agents\n",
    "master = Master(condition, event)\n",
    "agents = [Agent(i, condition, event) for i in range(1, 4)]\n",
    "\n",
    "# Créez des threads pour le maître et les agents\n",
    "master_thread = threading.Thread(target=master.run)\n",
    "agent_threads = [threading.Thread(target=agent.run) for agent in agents]\n",
    "\n",
    "# Démarrez les threads\n",
    "master_thread.start()\n",
    "for thread in agent_threads:\n",
    "    thread.start()\n",
    "\n",
    "# Attendez que tous les threads se terminent\n",
    "master_thread.join()\n",
    "for thread in agent_threads:\n",
    "    thread.join()\n",
    "\n",
    "print(\"Tous les agents et le maître ont terminé.\")\n"
   ]
  },
  {
   "cell_type": "code",
   "execution_count": null,
   "metadata": {},
   "outputs": [],
   "source": [
    "import time\n",
    "from threading import Thread\n",
    "from queue import Queue\n",
    "\n",
    "class Agent:\n",
    "    def __init__(self, master_queue, name):\n",
    "        self.master_queue = master_queue\n",
    "        self.name = name\n",
    "\n",
    "    def do_task(self, task):\n",
    "        print(f\"Agent {self.name} received task: {task}\")\n",
    "        # Simulating task execution\n",
    "        time.sleep(2)\n",
    "        print(f\"Agent {self.name} completed task: {task}\")\n",
    "        # Inform the master that the task is completed\n",
    "        self.master_queue.put((self.name, task))\n",
    "\n",
    "\n",
    "class Master:\n",
    "    def __init__(self):\n",
    "        self.agent_queues = {}\n",
    "\n",
    "    def add_agent(self, agent):\n",
    "        agent_queue = Queue()\n",
    "        self.agent_queues[agent.name] = agent_queue\n",
    "        Thread(target=self.listen_to_agent, args=(agent, agent_queue)).start()\n",
    "\n",
    "    def assign_task(self, agent_name, task):\n",
    "        agent_queue = self.agent_queues.get(agent_name)\n",
    "        if agent_queue:\n",
    "            print(f\"Master assigned task: {task} to Agent {agent_name}\")\n",
    "            agent_queue.put(task)\n",
    "        else:\n",
    "            print(f\"Agent {agent_name} not found.\")\n",
    "\n",
    "    def listen_to_agent(self, agent, agent_queue):\n",
    "        while True:\n",
    "            task = agent_queue.get()\n",
    "            if task is None:\n",
    "                break\n",
    "            print(f\"Master received task completion report from Agent {agent.name} for task: {task}\")\n",
    "\n",
    "\n",
    "# Exemple d'utilisation\n",
    "if __name__ == \"__main__\":\n",
    "    master = Master()\n",
    "\n",
    "    agents = [Agent(master_queue=master, name=f\"Agent{i+1}\") for i in range(4)]\n",
    "\n",
    "    for agent in agents:\n",
    "        master.add_agent(agent)\n",
    "\n",
    "    master.assign_task(\"Agent1\", \"Task1\")\n",
    "    master.assign_task(\"Agent2\", \"Task2\")\n",
    "    master.assign_task(\"Agent3\", \"Task3\")\n",
    "    master.assign_task(\"Agent4\", \"Task4\")\n",
    "\n",
    "    # Attendez la fin des tâches avant de quitter\n",
    "    time.sleep(3)  # Simuler le temps nécessaire pour terminer les tâches\n",
    "    for agent in agents:\n",
    "        master.add_agent(agent)  # Envoyer un signal de fin à tous les agents\n"
   ]
  },
  {
   "cell_type": "code",
   "execution_count": null,
   "metadata": {},
   "outputs": [],
   "source": [
    "import multiprocessing\n",
    "import time\n",
    "import random\n",
    "\n",
    "class Agent(multiprocessing.Process):\n",
    "    def __init__(self, agent_id, master_queue, agent_queue):\n",
    "        super().__init__()\n",
    "        self.agent_id = agent_id\n",
    "        self.master_queue = master_queue\n",
    "        self.agent_queue = agent_queue\n",
    "\n",
    "    def run(self):\n",
    "        while True:\n",
    "            instruction = self.master_queue.get()\n",
    "\n",
    "            if instruction == \"QUIT\":\n",
    "                break\n",
    "\n",
    "            # Ajoutez des conditions en fonction de l'instruction\n",
    "            if instruction == \"Commande 1\":\n",
    "                result = f\"Agent {self.agent_id} exécute la Commande 1 spécifique.\"\n",
    "            elif instruction == \"Commande 2\":\n",
    "                result = f\"Agent {self.agent_id} exécute la Commande 2 spécifique.\"\n",
    "            else:\n",
    "                result = f\"Agent {self.agent_id} exécute une instruction non gérée.\"\n",
    "\n",
    "            self.agent_queue.put(result)\n",
    "\n",
    "class Master:\n",
    "    def __init__(self):\n",
    "        self.master_queue = multiprocessing.Queue()\n",
    "        self.agent_queues = [multiprocessing.Queue() for _ in range(4)]\n",
    "        self.agents = [Agent(i, self.master_queue, self.agent_queues[i]) for i in range(4)]\n",
    "\n",
    "    def start_agents(self):\n",
    "        for agent in self.agents:\n",
    "            agent.start()\n",
    "\n",
    "    def send_instructions(self, instructions):\n",
    "        for instruction in instructions:\n",
    "            for agent_queue in self.agent_queues:\n",
    "                self.master_queue.put(instruction)\n",
    "\n",
    "            time.sleep(1)  # Attendez un certain temps pour simuler le traitement parallèle\n",
    "\n",
    "            for _ in range(4):\n",
    "                report = self.master_queue.get()\n",
    "                print(report)\n",
    "\n",
    "    def stop_agents(self):\n",
    "        for _ in range(4):\n",
    "            self.master_queue.put(\"QUIT\")\n",
    "\n",
    "        for agent in self.agents:\n",
    "            agent.join()\n",
    "\n",
    "if __name__ == \"__main__\":\n",
    "    master_instance = Master()\n",
    "    master_instance.start_agents()\n",
    "\n",
    "    instructions = [\"Commande 1\", \"Commande 2\", \"Commande 3\", \"Commande 4\"]\n",
    "    master_instance.send_instructions(instructions)\n",
    "\n",
    "    master_instance.stop_agents()\n"
   ]
  },
  {
   "cell_type": "code",
   "execution_count": null,
   "metadata": {},
   "outputs": [],
   "source": [
    "import multiprocessing\n",
    "import time\n",
    "\n",
    "class Agent(multiprocessing.Process):\n",
    "    def __init__(self, agent_id, master_event, agent_queue):\n",
    "        super().__init__()\n",
    "        self.agent_id = agent_id\n",
    "        self.master_event = master_event\n",
    "        self.agent_queue = agent_queue\n",
    "\n",
    "    def run(self):\n",
    "        while True:\n",
    "            # Wait for the event to be set by the master\n",
    "            self.master_event.wait()\n",
    "\n",
    "            instruction = self.agent_queue.get()\n",
    "\n",
    "            if instruction == \"QUIT\":\n",
    "                break\n",
    "\n",
    "            # Your conditions or logic here\n",
    "            result = f\"Agent {self.agent_id} a exécuté l'instruction: {instruction}\"\n",
    "\n",
    "            # Report the result to the master\n",
    "            self.agent_queue.put(result)\n",
    "\n",
    "class Master:\n",
    "    def __init__(self):\n",
    "        self.master_event = multiprocessing.Event()\n",
    "        self.agent_queues = [multiprocessing.Queue() for _ in range(4)]\n",
    "        self.agents = [Agent(i, self.master_event, self.agent_queues[i]) for i in range(4)]\n",
    "\n",
    "    def start_agents(self):\n",
    "        for agent in self.agents:\n",
    "            agent.start()\n",
    "\n",
    "    def send_instructions(self, instructions):\n",
    "        for instruction in instructions:\n",
    "            # Send the instruction to all agents\n",
    "            for agent_queue in self.agent_queues:\n",
    "                agent_queue.put(instruction)\n",
    "\n",
    "            # Set the event to signal agents to start processing\n",
    "            self.master_event.set()\n",
    "\n",
    "            time.sleep(1)  # Simulate parallel processing time\n",
    "\n",
    "            # Clear the event for the next round\n",
    "            self.master_event.clear()\n",
    "\n",
    "            # Collect reports from agents\n",
    "            for _ in range(4):\n",
    "                report = self.agent_queues[0].get()  # Assuming all agents provide the same result\n",
    "                print(report)\n",
    "\n",
    "    def stop_agents(self):\n",
    "        # Send the QUIT instruction to all agents\n",
    "        for agent_queue in self.agent_queues:\n",
    "            agent_queue.put(\"QUIT\")\n",
    "\n",
    "        # Wait for agents to finish\n",
    "        for agent in self.agents:\n",
    "            agent.join()\n",
    "\n",
    "if __name__ == \"__main__\":\n",
    "    master_instance = Master()\n",
    "    master_instance.start_agents()\n",
    "\n",
    "    instructions = [\"Commande 1\", \"Commande 2\", \"Commande 3\", \"Commande 4\"]\n",
    "    master_instance.send_instructions(instructions)\n",
    "\n",
    "    master_instance.stop_agents()\n"
   ]
  },
  {
   "cell_type": "code",
   "execution_count": null,
   "metadata": {},
   "outputs": [],
   "source": [
    "\n",
    "\n",
    "class ProfitManagement:\n",
    "    def __init__(self, profit_target_percentage, trailing_stop_percentage):\n",
    "        self.profit_target_percentage = profit_target_percentage\n",
    "        self.trailing_stop_percentage = trailing_stop_percentage\n",
    "        self.entry_price = None\n",
    "        self.profit_target_price = None\n",
    "        self.trailing_stop_price = None\n",
    "\n",
    "    def set_entry_price(self, entry_price):\n",
    "        self.entry_price = entry_price\n",
    "        self.profit_target_price = entry_price * (1 + self.profit_target_percentage)\n",
    "        self.trailing_stop_price = entry_price * (1 - self.trailing_stop_percentage)\n",
    "\n",
    "    def take_profit(self, current_price):\n",
    "        if current_price >= self.profit_target_price:\n",
    "            return True\n",
    "        return False\n",
    "\n",
    "    def trailing_stop_loss(self, current_price):\n",
    "        if current_price >= self.trailing_stop_price:\n",
    "            self.trailing_stop_price = current_price * (1 - self.trailing_stop_percentage)\n",
    "        return self.trailing_stop_price\n",
    "\n",
    "# Exemple d'utilisation\n",
    "profit_target_percentage = 0.05  # Objectif de profit de 5%\n",
    "trailing_stop_percentage = 0.02  # Trailing stop-loss de 2%\n",
    "\n",
    "profit_manager = ProfitManagement(profit_target_percentage, trailing_stop_percentage)\n",
    "profit_manager.set_entry_price(100)  # Prix d'entrée de la position\n",
    "\n",
    "# Simulation du mouvement des prix\n",
    "price_history = [100, 110, 120, 115, 125, 130, 135, 130, 140, 145]\n",
    "\n",
    "for price in price_history:\n",
    "    if profit_manager.take_profit(price):\n",
    "        print(f\"Prendre profit au prix {price}\")\n",
    "        break\n",
    "    else:\n",
    "        trailing_stop_price = profit_manager.trailing_stop_loss(price)\n",
    "        print(f\"Prix actuel : {price}, Trailing stop-loss : {trailing_stop_price}\")\n"
   ]
  }
 ],
 "metadata": {
  "kernelspec": {
   "display_name": "Python 3",
   "language": "python",
   "name": "python3"
  },
  "language_info": {
   "codemirror_mode": {
    "name": "ipython",
    "version": 3
   },
   "file_extension": ".py",
   "mimetype": "text/x-python",
   "name": "python",
   "nbconvert_exporter": "python",
   "pygments_lexer": "ipython3",
   "version": "3.11.4"
  },
  "orig_nbformat": 4
 },
 "nbformat": 4,
 "nbformat_minor": 2
}
